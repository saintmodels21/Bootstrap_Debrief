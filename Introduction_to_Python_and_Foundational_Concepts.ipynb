{
  "nbformat": 4,
  "nbformat_minor": 0,
  "metadata": {
    "colab": {
      "provenance": [],
      "toc_visible": true,
      "include_colab_link": true
    },
    "kernelspec": {
      "name": "python3",
      "display_name": "Python 3"
    },
    "language_info": {
      "name": "python"
    }
  },
  "cells": [
    {
      "cell_type": "markdown",
      "metadata": {
        "id": "view-in-github",
        "colab_type": "text"
      },
      "source": [
        "<a href=\"https://colab.research.google.com/github/saintmodels21/Bootstrap_Debrief/blob/main/Introduction_to_Python_and_Foundational_Concepts.ipynb\" target=\"_parent\"><img src=\"https://colab.research.google.com/assets/colab-badge.svg\" alt=\"Open In Colab\"/></a>"
      ]
    },
    {
      "cell_type": "markdown",
      "source": [
        "# Workshop 1: Introduction to Python and Foundational Concepts\n",
        "\n",
        "## Objective:\n",
        "By the end of this workshop, you will:\n",
        "- Understand Python basics: variables, data types, loops, functions.\n",
        "- Write simple Python programs.\n",
        "- Complete a lab where you'll calculate monthly expenses and build a to-do list.\n",
        "\n",
        "---\n",
        "\n"
      ],
      "metadata": {
        "id": "tKGZPlx8FezK"
      }
    },
    {
      "cell_type": "markdown",
      "source": [
        "## Part 1: Python Basics\n",
        "### Variables and Data Types\n",
        "- Strings\n",
        "- Integers\n",
        "- Floats\n",
        "- Booleans\n",
        "\n",
        "Run the following examples and try out your own!\n"
      ],
      "metadata": {
        "id": "4Rmkr_W2IIY4"
      }
    },
    {
      "cell_type": "code",
      "execution_count": null,
      "metadata": {
        "colab": {
          "base_uri": "https://localhost:8080/"
        },
        "id": "ZCSwP7a0D23O",
        "outputId": "07abd6fb-4b56-48f5-b9da-76a15a9db2a8"
      },
      "outputs": [
        {
          "output_type": "stream",
          "name": "stdout",
          "text": [
            "Name: John Doe, Age: 25, Salary: 55000.5, Employed: True\n"
          ]
        }
      ],
      "source": [
        "# Example 1: Variables and Data Types\n",
        "name = \"John Doe\"  # String\n",
        "age = 25  # Integer\n",
        "salary = 55000.50  # Float\n",
        "is_employed = True  # Boolean\n",
        "\n",
        "# Print these variables\n",
        "print(f\"Name: {name}, Age: {age}, Salary: {salary}, Employed: {is_employed}\")\n"
      ]
    },
    {
      "cell_type": "markdown",
      "source": [
        "## Part 2: Input and Output\n",
        "- Learn how to take input and display output.\n"
      ],
      "metadata": {
        "id": "3X-xRiwIFj17"
      }
    },
    {
      "cell_type": "code",
      "source": [
        "# Input and Output Example\n",
        "user_name = input(\"What is your name? \")\n",
        "print(f\"Hello, {user_name}!\")"
      ],
      "metadata": {
        "colab": {
          "base_uri": "https://localhost:8080/"
        },
        "id": "NfjfV75fFmt8",
        "outputId": "f1d7020e-93fe-4294-86d6-5fac446123d9"
      },
      "execution_count": null,
      "outputs": [
        {
          "output_type": "stream",
          "name": "stdout",
          "text": [
            "What is your name? Teneika\n",
            "Hello, Teneika!\n"
          ]
        }
      ]
    },
    {
      "cell_type": "markdown",
      "source": [
        "## Part 3: Control Flow\n",
        "- Learn `if`, `elif`, `else` statements and loops."
      ],
      "metadata": {
        "id": "ck9ZP6DgFjlU"
      }
    },
    {
      "cell_type": "code",
      "source": [
        "# Control Flow Example\n",
        "number = int(input(\"Enter a number: \"))\n",
        "if number > 0:\n",
        "    print(\"The number is positive.\")\n",
        "elif number < 0:\n",
        "    print(\"The number is negative.\")\n",
        "else:\n",
        "    print(\"The number is zero.\")\n"
      ],
      "metadata": {
        "colab": {
          "base_uri": "https://localhost:8080/"
        },
        "id": "wZPQbhVsFwDA",
        "outputId": "c45e2a26-20c2-46fd-e9da-69f2c585f0b7"
      },
      "execution_count": null,
      "outputs": [
        {
          "output_type": "stream",
          "name": "stdout",
          "text": [
            "Enter a number: 11\n",
            "The number is positive.\n"
          ]
        }
      ]
    },
    {
      "cell_type": "code",
      "source": [
        "# Loop Example\n",
        "for i in range(1, 6):\n",
        "    print(f\"This is loop iteration {i}\")\n"
      ],
      "metadata": {
        "colab": {
          "base_uri": "https://localhost:8080/"
        },
        "id": "vGtujlBLFzfx",
        "outputId": "1dfb36c0-94af-42d8-d4f9-95043b17627e"
      },
      "execution_count": null,
      "outputs": [
        {
          "output_type": "stream",
          "name": "stdout",
          "text": [
            "This is loop iteration 1\n",
            "This is loop iteration 2\n",
            "This is loop iteration 3\n",
            "This is loop iteration 4\n",
            "This is loop iteration 5\n"
          ]
        }
      ]
    },
    {
      "cell_type": "markdown",
      "source": [
        "## Part 4: Functions\n",
        "- Learn how to write reusable code using functions."
      ],
      "metadata": {
        "id": "10xZOxeEFts-"
      }
    },
    {
      "cell_type": "code",
      "source": [
        "# Function Example\n",
        "def greet_user(name):\n",
        "    return f\"Hello, {name}!\"\n",
        "\n",
        "user_name = input(\"Enter your name: \")\n",
        "print(greet_user(user_name))\n"
      ],
      "metadata": {
        "colab": {
          "base_uri": "https://localhost:8080/"
        },
        "id": "OQP7SMVOF3K2",
        "outputId": "ff109e57-c6e5-438f-abd0-43c37b2feb1f"
      },
      "execution_count": null,
      "outputs": [
        {
          "output_type": "stream",
          "name": "stdout",
          "text": [
            "Enter your name: Teneika\n",
            "Hello, Teneika!\n"
          ]
        }
      ]
    },
    {
      "cell_type": "markdown",
      "source": [
        "# Lab 1: Monthly Expenses Calculator\n",
        "\n",
        "## Instructions:\n",
        "1. Create a program that calculates total monthly expenses.\n",
        "2. Take user input for expense categories like rent, groceries, etc.\n",
        "3. Sum up the expenses and display the total.\n",
        "\n",
        "---\n",
        "\n",
        "\n"
      ],
      "metadata": {
        "id": "l3mnKnZaF3jq"
      }
    },
    {
      "cell_type": "code",
      "source": [
        "# Lab 1: Monthly Expenses Calculator test_rent, test_groceries, test_utilities, test_others = 1000, 300, 150, 50\n",
        "def calculate_expenses():\n",
        "    rent = float(input(\"Enter rent expense: \"))\n",
        "    groceries = float(input(\"Enter groceries expense: \"))\n",
        "    utilities = float(input(\"Enter utilities expense: \"))\n",
        "    others = float(input(\"Enter other expenses: \"))\n",
        "    total = rent + groceries + utilities + others\n",
        "    print(f\"Your total monthly expenses are: ${total:.2f}\")\n",
        "\n",
        "calculate_expenses()\n"
      ],
      "metadata": {
        "colab": {
          "base_uri": "https://localhost:8080/"
        },
        "id": "wP5pIxb7F3IY",
        "outputId": "c61ce147-e280-4b66-b3ed-03c1857aa2e3"
      },
      "execution_count": null,
      "outputs": [
        {
          "output_type": "stream",
          "name": "stdout",
          "text": [
            "Enter rent expense: 1000\n",
            "Enter groceries expense: 300\n",
            "Enter utilities expense: 300\n",
            "Enter other expenses: 900\n",
            "Your total monthly expenses are: $2500.00\n"
          ]
        }
      ]
    },
    {
      "cell_type": "markdown",
      "source": [
        "# Lab 2: To-Do List Program\n",
        "\n",
        "## Instructions:\n",
        "1. Create a program that allows the user to manage a simple to-do list.\n",
        "2. Provide options to add, view, or remove tasks.\n",
        "3. Display the updated list after each action."
      ],
      "metadata": {
        "id": "iFzOf2E0GCOB"
      }
    },
    {
      "cell_type": "code",
      "source": [
        "# Lab 2: To-Do List Program\n",
        "def todo_list_program():\n",
        "    todo_list = []\n",
        "    while True:\n",
        "        print(\"\\nOptions:\")\n",
        "        print(\"1. Add Task\")\n",
        "        print(\"2. View Tasks\")\n",
        "        print(\"3. Remove Task\")\n",
        "        print(\"4. Exit\")\n",
        "        choice = input(\"Choose an option (1-4): \")\n",
        "\n",
        "        if choice == '1':\n",
        "            task = input(\"Enter a task: \")\n",
        "            todo_list.append(task)\n",
        "            print(\"Task added.\\n\", todo_list)\n",
        "        elif choice == '2':\n",
        "            print(\"Your To-Do List:\")\n",
        "            for idx, task in enumerate(todo_list, start=1):\n",
        "                print(f\"{idx}. {task}\")\n",
        "        elif choice == '3':\n",
        "            print(\"Your To-Do List:\")\n",
        "            for idx, task in enumerate(todo_list, start=1):\n",
        "                print(f\"{idx}. {task}\")\n",
        "            task_num = int(input(\"Enter the task number to remove: \"))\n",
        "            if 0 < task_num <= len(todo_list):\n",
        "                removed_task = todo_list.pop(task_num - 1)\n",
        "                print(f\"Removed task: {removed_task}\")\n",
        "            else:\n",
        "                print(\"Invalid task number.\")\n",
        "        elif choice == '4':\n",
        "            print(\"Exiting program. Goodbye!\")\n",
        "            break\n",
        "        else:\n",
        "            print(\"Invalid option. Try again.\")\n",
        "\n",
        "todo_list_program()\n"
      ],
      "metadata": {
        "colab": {
          "base_uri": "https://localhost:8080/"
        },
        "id": "d9KwDPuNF20P",
        "outputId": "2ea11ba7-4f4a-4b1d-bf35-48a1f93b50f1"
      },
      "execution_count": null,
      "outputs": [
        {
          "output_type": "stream",
          "name": "stdout",
          "text": [
            "\n",
            "Options:\n",
            "1. Add Task\n",
            "2. View Tasks\n",
            "3. Remove Task\n",
            "4. Exit\n",
            "Choose an option (1-4): 1\n",
            "Enter a task: groceries\n",
            "Task added.\n",
            " ['groceries']\n",
            "\n",
            "Options:\n",
            "1. Add Task\n",
            "2. View Tasks\n",
            "3. Remove Task\n",
            "4. Exit\n",
            "Choose an option (1-4): 2\n",
            "Your To-Do List:\n",
            "1. groceries\n",
            "\n",
            "Options:\n",
            "1. Add Task\n",
            "2. View Tasks\n",
            "3. Remove Task\n",
            "4. Exit\n",
            "Choose an option (1-4): baby wipes\n",
            "Invalid option. Try again.\n",
            "\n",
            "Options:\n",
            "1. Add Task\n",
            "2. View Tasks\n",
            "3. Remove Task\n",
            "4. Exit\n",
            "Choose an option (1-4): 1\n",
            "Enter a task: baby wipes\n",
            "Task added.\n",
            " ['groceries', 'baby wipes']\n",
            "\n",
            "Options:\n",
            "1. Add Task\n",
            "2. View Tasks\n",
            "3. Remove Task\n",
            "4. Exit\n",
            "Choose an option (1-4): 4\n",
            "Exiting program. Goodbye!\n"
          ]
        }
      ]
    },
    {
      "cell_type": "markdown",
      "source": [
        "# Homework\n",
        "1. Write a Python program that:\n",
        "   - Takes a list of numbers from the user.\n",
        "   - Calculates the sum, average, maximum, and minimum of the numbers.\n",
        "\n",
        "2. Write a program to simulate a basic calculator:\n",
        "   - Allow the user to perform addition, subtraction, multiplication, and division.\n"
      ],
      "metadata": {
        "id": "iutwHR8GGQEX"
      }
    },
    {
      "cell_type": "markdown",
      "source": [
        "# New Section"
      ],
      "metadata": {
        "id": "b1Hx6dYQ0mu6"
      }
    },
    {
      "cell_type": "code",
      "source": [],
      "metadata": {
        "id": "Up5xjbYr0n8O"
      },
      "execution_count": null,
      "outputs": []
    }
  ]
}